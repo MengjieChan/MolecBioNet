{
 "cells": [
  {
   "cell_type": "code",
   "execution_count": 1,
   "metadata": {},
   "outputs": [],
   "source": [
    "import pandas as pd\n",
    "import numpy as np\n",
    "\n",
    "Bioteque = pd.read_csv('BioKG_DrugBank.txt', sep = '\\t')\n",
    "\n",
    "relations = Bioteque[['Relation']].drop_duplicates()\n",
    "\n",
    "relations['ID'] = range(len(relations))\n",
    "\n",
    "Bioteque = pd.merge(Bioteque, relations, left_on ='Relation', right_on = 'Relation', how = 'inner')"
   ]
  },
  {
   "cell_type": "code",
   "execution_count": 2,
   "metadata": {},
   "outputs": [],
   "source": [
    "Bioteque[['Node 1', 'Node 2', 'ID']].to_csv('BKG_file.txt', sep = '\\t', index = False, header = None)\n",
    "\n",
    "relations.to_csv('BKG_Relation.txt', sep = '\\t', index = False)"
   ]
  },
  {
   "cell_type": "code",
   "execution_count": 3,
   "metadata": {},
   "outputs": [],
   "source": [
    "DDI = pd.read_csv('DrugBank_DDI.txt', sep = '\\t')"
   ]
  },
  {
   "cell_type": "code",
   "execution_count": 4,
   "metadata": {},
   "outputs": [],
   "source": [
    "DDI['ID'] = DDI['Relation'].str[9:].astype(int)"
   ]
  },
  {
   "cell_type": "code",
   "execution_count": 5,
   "metadata": {},
   "outputs": [],
   "source": [
    "DDI = DDI[['Node 1', 'Node 2', 'ID']]"
   ]
  },
  {
   "cell_type": "code",
   "execution_count": null,
   "metadata": {},
   "outputs": [
    {
     "name": "stdout",
     "output_type": "stream",
     "text": [
      "Train Set:\n",
      "         Node 1  Node 2  ID\n",
      "0          929    1266  20\n",
      "1          407    1761  22\n",
      "2         1764      32  65\n",
      "3          228     436   9\n",
      "4          379    1129  48\n",
      "...        ...     ...  ..\n",
      "370360     482      52  23\n",
      "370361     555     574  48\n",
      "370362     189    1800  22\n",
      "370363    1401    1517  31\n",
      "370364     730    1232  20\n",
      "\n",
      "[370365 rows x 3 columns]\n",
      "Validation Set:\n",
      "         Node 1  Node 2  ID\n",
      "0         1262     337   9\n",
      "1         1692    1696  23\n",
      "2          810    1268   9\n",
      "3          404    1458  70\n",
      "4          216    1986   9\n",
      "...        ...     ...  ..\n",
      "123451     387    1164  16\n",
      "123452    1942    1785  24\n",
      "123453    1414    1850  24\n",
      "123454    1661    1108  14\n",
      "123455    1599     409   2\n",
      "\n",
      "[123456 rows x 3 columns]\n",
      "Test Set:\n",
      "         Node 1  Node 2  ID\n",
      "0            0      10   0\n",
      "1            0      58   1\n",
      "2            0     119   2\n",
      "3            0     130   0\n",
      "4            0     149   0\n",
      "...        ...     ...  ..\n",
      "123451    2080     852  11\n",
      "123452    2080    1475  11\n",
      "123453    2080    1609  11\n",
      "123454    2080    1668  11\n",
      "123455    2080    1856   0\n",
      "\n",
      "[123456 rows x 3 columns]\n"
     ]
    }
   ],
   "source": [
    "from sklearn.model_selection import StratifiedKFold, train_test_split\n",
    "\n",
    "\n",
    "k_fold = 5\n",
    "skf = StratifiedKFold(n_splits=k_fold, shuffle=True, random_state=42)\n",
    "\n",
    "folds = []\n",
    "\n",
    "for train_index, test_index in skf.split(DDI, DDI['ID']):\n",
    "    train_set = DDI.iloc[train_index]\n",
    "    test_set = DDI.iloc[test_index]\n",
    "\n",
    "    train_set, val_set = train_test_split(train_set, test_size=0.25, stratify=train_set['ID'], random_state=42)\n",
    "\n",
    "    folds.append((train_set.reset_index(drop=True), val_set.reset_index(drop=True), test_set.reset_index(drop=True)))\n",
    "for i in range(k_fold):\n",
    "    train_set, val_set, test_set = folds[i]\n",
    "    iFold = 'iFold_'+str(i+1)\n",
    "    train_set.to_csv(f'./{iFold}/train.txt', sep = '\\t', index = False, header = None)\n",
    "    val_set.to_csv(f'./{iFold}/valid.txt', sep = '\\t', index = False, header = None)\n",
    "    test_set.to_csv(f'./{iFold}/test.txt', sep = '\\t', index = False, header = None)\n",
    "\n",
    "train_set, val_set, test_set = folds[0]\n",
    "print(\"Train Set:\\n\", train_set)\n",
    "print(\"Validation Set:\\n\", val_set)\n",
    "print(\"Test Set:\\n\", test_set)"
   ]
  },
  {
   "cell_type": "code",
   "execution_count": 8,
   "metadata": {},
   "outputs": [
    {
     "data": {
      "text/plain": [
       "ID\n",
       "9      119017\n",
       "24      99692\n",
       "20      39990\n",
       "48      39313\n",
       "14      38324\n",
       "        ...  \n",
       "206         5\n",
       "172         5\n",
       "207         5\n",
       "155         5\n",
       "130         5\n",
       "Name: count, Length: 221, dtype: int64"
      ]
     },
     "execution_count": 8,
     "metadata": {},
     "output_type": "execute_result"
    }
   ],
   "source": [
    "DDI['ID'].value_counts()"
   ]
  },
  {
   "cell_type": "code",
   "execution_count": 9,
   "metadata": {},
   "outputs": [],
   "source": [
    "Node_Type = pd.read_csv('Node_Type.txt', sep = '\\t')"
   ]
  },
  {
   "cell_type": "code",
   "execution_count": 10,
   "metadata": {},
   "outputs": [],
   "source": [
    "nodetype = Node_Type.iloc[:,2].drop_duplicates()\n",
    "nodetype = pd.DataFrame(nodetype)"
   ]
  },
  {
   "cell_type": "code",
   "execution_count": 11,
   "metadata": {},
   "outputs": [],
   "source": [
    "nodetype['Type_ID'] = range(0, len(nodetype))"
   ]
  },
  {
   "cell_type": "code",
   "execution_count": 12,
   "metadata": {},
   "outputs": [],
   "source": [
    "Node_Type = pd.merge(Node_Type, nodetype, left_on = 'Type', right_on = 'Type', how = 'inner')"
   ]
  },
  {
   "cell_type": "code",
   "execution_count": 13,
   "metadata": {},
   "outputs": [],
   "source": [
    "Node_Type[['Type_ID']].to_csv('entity.txt', header=None, index=False)"
   ]
  }
 ],
 "metadata": {
  "kernelspec": {
   "display_name": "ddi",
   "language": "python",
   "name": "python3"
  },
  "language_info": {
   "codemirror_mode": {
    "name": "ipython",
    "version": 3
   },
   "file_extension": ".py",
   "mimetype": "text/x-python",
   "name": "python",
   "nbconvert_exporter": "python",
   "pygments_lexer": "ipython3",
   "version": "3.10.14"
  }
 },
 "nbformat": 4,
 "nbformat_minor": 2
}
