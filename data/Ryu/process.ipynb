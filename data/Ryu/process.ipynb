{
 "cells": [
  {
   "cell_type": "code",
   "execution_count": null,
   "metadata": {},
   "outputs": [],
   "source": [
    "import pandas as pd\n",
    "import numpy as np\n",
    "\n",
    "Bioteque = pd.read_csv('BioKG_Ryu.txt', sep = '\\t')\n",
    "\n",
    "relations = Bioteque[['Relation']].drop_duplicates()\n",
    "\n",
    "relations['ID'] = range(len(relations))\n",
    "\n",
    "Bioteque = pd.merge(Bioteque, relations, left_on ='Relation', right_on = 'Relation', how = 'inner')"
   ]
  },
  {
   "cell_type": "code",
   "execution_count": 2,
   "metadata": {},
   "outputs": [],
   "source": [
    "Bioteque[['Node 1', 'Node 2', 'ID']].to_csv('BKG_file.txt', sep = '\\t', index = False, header = None)\n",
    "\n",
    "relations.to_csv('BKG_Relation.txt', sep = '\\t', index = False)"
   ]
  },
  {
   "cell_type": "code",
   "execution_count": null,
   "metadata": {},
   "outputs": [],
   "source": [
    "DDI = pd.read_csv('Ryu_DDI.txt', sep = '\\t')"
   ]
  },
  {
   "cell_type": "code",
   "execution_count": 4,
   "metadata": {},
   "outputs": [],
   "source": [
    "DDI['ID'] = DDI['Relation'].str[9:].astype(int)"
   ]
  },
  {
   "cell_type": "code",
   "execution_count": 5,
   "metadata": {},
   "outputs": [],
   "source": [
    "DDI = DDI[['Node 1', 'Node 2', 'ID']]"
   ]
  },
  {
   "cell_type": "code",
   "execution_count": null,
   "metadata": {},
   "outputs": [
    {
     "name": "stdout",
     "output_type": "stream",
     "text": [
      "Train Set:\n",
      "         Node 1  Node 2  ID\n",
      "0          176    1005   2\n",
      "1          981     359   7\n",
      "2          889     233  27\n",
      "3          279     782  50\n",
      "4          377      53  34\n",
      "...        ...     ...  ..\n",
      "114827     372      37   8\n",
      "114828     205     340  77\n",
      "114829     974    1200   2\n",
      "114830     205    1626  77\n",
      "114831     318    1146  80\n",
      "\n",
      "[114832 rows x 3 columns]\n",
      "Validation Set:\n",
      "        Node 1  Node 2  ID\n",
      "0        1483     983   2\n",
      "1         344      32   8\n",
      "2         526      35   2\n",
      "3         704     677   7\n",
      "4         657     702  12\n",
      "...       ...     ...  ..\n",
      "38273     707      97   8\n",
      "38274    1024     479   2\n",
      "38275     565     638  27\n",
      "38276      75     139   3\n",
      "38277     290     277   8\n",
      "\n",
      "[38278 rows x 3 columns]\n",
      "Test Set:\n",
      "        Node 1  Node 2  ID\n",
      "0           0     124   1\n",
      "1           0     133   1\n",
      "2           0     211   1\n",
      "3           0     441   0\n",
      "4           0    1197   2\n",
      "...       ...     ...  ..\n",
      "38273    1571    1482   7\n",
      "38274    1572    1314   7\n",
      "38275    1572    1315   7\n",
      "38276    1573    1576   1\n",
      "38277    1573    1412   1\n",
      "\n",
      "[38278 rows x 3 columns]\n"
     ]
    }
   ],
   "source": [
    "from sklearn.model_selection import StratifiedKFold, train_test_split\n",
    "\n",
    "k_fold = 5\n",
    "skf = StratifiedKFold(n_splits=k_fold, shuffle=True, random_state=42)\n",
    "\n",
    "folds = []\n",
    "\n",
    "for train_index, test_index in skf.split(DDI, DDI['ID']):\n",
    "    train_set = DDI.iloc[train_index]\n",
    "    test_set = DDI.iloc[test_index]\n",
    "\n",
    "    train_set, val_set = train_test_split(train_set, test_size=0.25, stratify=train_set['ID'], random_state=42)\n",
    "\n",
    "    folds.append((train_set.reset_index(drop=True), val_set.reset_index(drop=True), test_set.reset_index(drop=True)))\n",
    "for i in range(k_fold):\n",
    "    train_set, val_set, test_set = folds[i]\n",
    "    iFold = 'iFold_'+str(i+1)\n",
    "    train_set.to_csv(f'./{iFold}/train.txt', sep = '\\t', index = False, header = None)\n",
    "    val_set.to_csv(f'./{iFold}/valid.txt', sep = '\\t', index = False, header = None)\n",
    "    test_set.to_csv(f'./{iFold}/test.txt', sep = '\\t', index = False, header = None)\n",
    "\n",
    "\n",
    "train_set, val_set, test_set = folds[0]\n",
    "print(\"Train Set:\\n\", train_set)\n",
    "print(\"Validation Set:\\n\", val_set)\n",
    "print(\"Test Set:\\n\", test_set)"
   ]
  },
  {
   "cell_type": "code",
   "execution_count": 8,
   "metadata": {},
   "outputs": [
    {
     "data": {
      "text/plain": [
       "ID\n",
       "2     60936\n",
       "8     34146\n",
       "7     23546\n",
       "5      9350\n",
       "30     8395\n",
       "      ...  \n",
       "18       11\n",
       "65       11\n",
       "72       10\n",
       "49        7\n",
       "73        6\n",
       "Name: count, Length: 86, dtype: int64"
      ]
     },
     "execution_count": 8,
     "metadata": {},
     "output_type": "execute_result"
    }
   ],
   "source": [
    "DDI['ID'].value_counts()"
   ]
  },
  {
   "cell_type": "code",
   "execution_count": 9,
   "metadata": {},
   "outputs": [],
   "source": [
    "Node_Type = pd.read_csv('Node_Type.txt', sep = '\\t')"
   ]
  },
  {
   "cell_type": "code",
   "execution_count": 10,
   "metadata": {},
   "outputs": [],
   "source": [
    "nodetype = Node_Type.iloc[:,2].drop_duplicates()\n",
    "nodetype = pd.DataFrame(nodetype)"
   ]
  },
  {
   "cell_type": "code",
   "execution_count": 11,
   "metadata": {},
   "outputs": [],
   "source": [
    "nodetype['Type_ID'] = range(0, len(nodetype))"
   ]
  },
  {
   "cell_type": "code",
   "execution_count": 12,
   "metadata": {},
   "outputs": [],
   "source": [
    "Node_Type = pd.merge(Node_Type, nodetype, left_on = 'Type', right_on = 'Type', how = 'inner')"
   ]
  },
  {
   "cell_type": "code",
   "execution_count": 13,
   "metadata": {},
   "outputs": [],
   "source": [
    "Node_Type[['Type_ID']].to_csv('entity.txt', header=None, index=False)"
   ]
  }
 ],
 "metadata": {
  "kernelspec": {
   "display_name": "base",
   "language": "python",
   "name": "python3"
  },
  "language_info": {
   "codemirror_mode": {
    "name": "ipython",
    "version": 3
   },
   "file_extension": ".py",
   "mimetype": "text/x-python",
   "name": "python",
   "nbconvert_exporter": "python",
   "pygments_lexer": "ipython3",
   "version": "3.10.14"
  }
 },
 "nbformat": 4,
 "nbformat_minor": 2
}
